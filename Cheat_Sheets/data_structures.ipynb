{
 "cells": [
  {
   "cell_type": "markdown",
   "id": "f7bdad74",
   "metadata": {},
   "source": [
    "# **Data Structures Cheat Sheet**\n",
    "\n",
    "In this nb we'll explore the main data structures available in python and how we can use them. This is a recurrent topic in interviews and it'll be help to prepare for when they come."
   ]
  },
  {
   "cell_type": "markdown",
   "id": "99e03eec",
   "metadata": {},
   "source": [
    "# Lists\n",
    "Definition: Ordered, mutable (changeable), allows duplicates."
   ]
  },
  {
   "cell_type": "code",
   "execution_count": 21,
   "id": "5c2c0876",
   "metadata": {},
   "outputs": [
    {
     "name": "stdout",
     "output_type": "stream",
     "text": [
      "banana\n",
      "['avocado', 'banana', 'cherry']\n",
      "['avocado', 'banana', 'cherry', 'watermelon']\n",
      "['avocado', 'banana', 'cherry', 'orange', 'watermelon']\n",
      "['avocado', 'banana', 'cherry', 'watermelon']\n",
      "['banana', 'cherry']\n",
      "[0, 1, 4, 9, 16]\n",
      "[16, 9, 4, 1, 0]\n",
      "[0, 1, 4, 9, 16]\n"
     ]
    }
   ],
   "source": [
    "# Creating a list\n",
    "fruits = ['apple', 'banana', 'cherry']\n",
    "\n",
    "# Accessing elements\n",
    "print(fruits[1])  # banana\n",
    "\n",
    "# Modifying elements\n",
    "fruits[0] = 'avocado'\n",
    "print(fruits)  # ['avocado', 'banana', 'cherry']\n",
    "\n",
    "# Adding elements\n",
    "fruits.append('watermelon')\n",
    "print(fruits)  # ['avocado', 'banana', 'cherry', 'watermelon']\n",
    "\n",
    "# Inserting at a specific index\n",
    "fruits.insert(3,'orange')\n",
    "print(fruits)  # ['avocado', 'banana', 'banana', 'orange', 'watermelon']\n",
    "\n",
    "# Removing elements\n",
    "fruits.remove('orange')\n",
    "print(fruits)  # ['avocado', 'banana', 'banana', 'watermelon']\n",
    "\n",
    "# List slicing\n",
    "print(fruits[1:3])  # ['banana', 'cherry']\n",
    "\n",
    "# List comprehension\n",
    "squares = [x**2 for x in range(5)]\n",
    "print(squares)  # [0, 1, 4, 9, 16]\n",
    "\n",
    "# List reversing\n",
    "print(list(reversed(squares)))\n",
    "\n",
    "# List sorting\n",
    "print(sorted(squares))\n"
   ]
  },
  {
   "cell_type": "markdown",
   "id": "868d3623",
   "metadata": {},
   "source": [
    "# Tuples\n",
    "Definition: Ordered, immutable, allows duplicates."
   ]
  },
  {
   "cell_type": "code",
   "execution_count": 2,
   "id": "e044402e",
   "metadata": {},
   "outputs": [
    {
     "name": "stdout",
     "output_type": "stream",
     "text": [
      "10.0\n",
      "10.0 20.0\n",
      "2\n",
      "<class 'tuple'>\n"
     ]
    }
   ],
   "source": [
    "# Creating a tuple\n",
    "coordinates = (10.0, 20.0)\n",
    "\n",
    "# Accessing elements\n",
    "print(coordinates[0])  # 10.0\n",
    "\n",
    "# Tuple unpacking\n",
    "x, y = coordinates\n",
    "print(x, y)  # 10.0 20.0\n",
    "\n",
    "# Nested tuples\n",
    "nested = (1, (2, 3))\n",
    "print(nested[1][0])  # 2\n",
    "\n",
    "# Single-element tuple (note the comma)\n",
    "single = (5,)\n",
    "print(type(single))  # <class 'tuple'>\n"
   ]
  },
  {
   "cell_type": "markdown",
   "id": "2e4c2802",
   "metadata": {},
   "source": [
    "# Sets\n",
    "Definition: Unordered, mutable, no duplicates."
   ]
  },
  {
   "cell_type": "code",
   "execution_count": 3,
   "id": "66132174",
   "metadata": {},
   "outputs": [
    {
     "name": "stdout",
     "output_type": "stream",
     "text": [
      "{'yellow', 'green', 'red', 'blue'}\n",
      "{'yellow', 'red', 'blue'}\n",
      "{1, 2, 3, 4, 5}\n",
      "{3}\n",
      "{1, 2}\n",
      "{1, 2, 4, 5}\n"
     ]
    }
   ],
   "source": [
    "# Creating a set\n",
    "colors = {'red', 'green', 'blue'}\n",
    "\n",
    "# Adding elements\n",
    "colors.add('yellow')\n",
    "print(colors)  # {'red', 'green', 'blue', 'yellow'}\n",
    "\n",
    "# Removing elements\n",
    "colors.discard('green')\n",
    "print(colors)  # {'red', 'blue', 'yellow'}\n",
    "\n",
    "# Set operations\n",
    "a = {1, 2, 3}\n",
    "b = {3, 4, 5}\n",
    "\n",
    "print(a | b)  # Union: {1, 2, 3, 4, 5}\n",
    "print(a & b)  # Intersection: {3}\n",
    "print(a - b)  # Difference: {1, 2}\n",
    "print(a ^ b)  # Symmetric difference: {1, 2, 4, 5}\n"
   ]
  },
  {
   "cell_type": "markdown",
   "id": "47d778b6",
   "metadata": {},
   "source": [
    "# Dictionaries\n",
    "Definition: Unordered (as of Python 3.7+, insertion-ordered), mutable, key-value pairs."
   ]
  },
  {
   "cell_type": "code",
   "execution_count": 4,
   "id": "532e054c",
   "metadata": {},
   "outputs": [
    {
     "name": "stdout",
     "output_type": "stream",
     "text": [
      "Alice\n",
      "{'name': 'Alice', 'age': 31, 'city': 'Monterrey'}\n",
      "{'name': 'Alice', 'city': 'Monterrey'}\n",
      "name Alice\n",
      "city Monterrey\n",
      "{0: 0, 1: 1, 2: 4, 3: 9, 4: 16}\n"
     ]
    }
   ],
   "source": [
    "# Creating a dictionary\n",
    "person = {'name': 'Alice', 'age': 30}\n",
    "\n",
    "# Accessing values\n",
    "print(person['name'])  # Alice\n",
    "\n",
    "# Adding/updating values\n",
    "person['city'] = 'Monterrey'\n",
    "person['age'] = 31\n",
    "print(person)  # {'name': 'Alice', 'age': 31, 'city': 'Monterrey'}\n",
    "\n",
    "# Removing a key\n",
    "del person['age']\n",
    "print(person)  # {'name': 'Alice', 'city': 'Monterrey'}\n",
    "\n",
    "# Iterating through keys and values\n",
    "for key, value in person.items():\n",
    "    print(key, value)\n",
    "# name Alice\n",
    "# city Monterrey\n",
    "\n",
    "# Dictionary comprehension\n",
    "squares = {x: x**2 for x in range(5)}\n",
    "print(squares)  # {0: 0, 1: 1, 2: 4, 3: 9, 4: 16}\n"
   ]
  },
  {
   "cell_type": "code",
   "execution_count": null,
   "id": "3c212e19",
   "metadata": {},
   "outputs": [],
   "source": []
  }
 ],
 "metadata": {
  "kernelspec": {
   "display_name": "Python 3",
   "language": "python",
   "name": "python3"
  },
  "language_info": {
   "codemirror_mode": {
    "name": "ipython",
    "version": 3
   },
   "file_extension": ".py",
   "mimetype": "text/x-python",
   "name": "python",
   "nbconvert_exporter": "python",
   "pygments_lexer": "ipython3",
   "version": "3.10.4"
  }
 },
 "nbformat": 4,
 "nbformat_minor": 5
}
